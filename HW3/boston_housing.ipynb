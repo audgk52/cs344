{
 "cells": [
  {
   "cell_type": "markdown",
   "metadata": {},
   "source": [
    "# Homework 3   Myungha Kim \n",
    "\n",
    "\n",
    "1. In class, we attempted to create by hand a neural network that computes the XOR function. If this was possible, see if you can simplify the network we built. If it was not possible, give a full explanation why it can’t be done.\n",
    "\n",
    "It is impossible to create a neural network that computes the XOR function with a single-layered network since it does not have an\n",
    "activation function. XOR function is not a linearly seperated function which will output \"AND\" result (an XOR function returns\n",
    "a true value if the two inputs are not equal and a false value if they are equal). \n",
    "\n",
    "In order to make it possible to compute the XOR function, either an activation function should be used to add another layer to \n",
    "the network (hidden layer; more complecated one that takes error into account) which can take any number of units in its input, \n",
    "hidden and output layers (eventually gives the capability of achieving non-linear separation to the network), or backpropagation \n",
    "(running forward and back propagation for numerous times on each input combination until the network can accurately predict the \n",
    "expected output of the possible inputs) can be used. "
   ]
  },
  {
   "cell_type": "markdown",
   "metadata": {},
   "source": [
    "2. Boston Housing\n",
    "\n",
    "#a. "
   ]
  },
  {
   "cell_type": "code",
   "execution_count": null,
   "metadata": {},
   "outputs": [],
   "source": [
    "import pandas as pd\n",
    "import numpy as np\n",
    "from keras.datasets import boston_housing\n",
    "\n",
    "(training_x, training_y), (testing_x, testing_y) = boston_housing.load_data()\n",
    "\n",
    "n = 102\n",
    "\n",
    "# a. printing dimensions of the data structures\n",
    "print(\"Training set dimensions: \",\n",
    "      \"\\ntraining_x count: \", len(training_x),\n",
    "      \"\\ntraining_y count: \", len(training_y),\n",
    "      \"\\ntraining_x dimension: \", training_x.ndim,\n",
    "      \"\\ntraining_y dimension: \", training_y.ndim,\n",
    "      \"\\ntraining_x shape: \", training_x.shape,\n",
    "      \"\\ntraining_y shape: \", training_y.shape)\n",
    "\n",
    "print(\"Testing set dimensions: \",\n",
    "      \"\\ntesting_x count: \", len(testing_x),\n",
    "      \"\\ntesting_y count: \", len(testing_y),\n",
    "      \"\\ntesting_x dimension: \", testing_x.ndim,\n",
    "      \"\\ntesting_y dimension: \", testing_y.ndim,\n",
    "      \"\\ntesting_x shape: \", testing_x.shape,\n",
    "      \"\\ntesting_y shape: \", testing_y.shape)\n"
   ]
  },
  {
   "cell_type": "markdown",
   "metadata": {},
   "source": [
    "#b."
   ]
  },
  {
   "cell_type": "code",
   "execution_count": null,
   "metadata": {},
   "outputs": [],
   "source": [
    "# b. Constructing a suitable testing, training, and validation set\n",
    "training_x = training_x[0:n]    # first 102 data from existing training set = training set\n",
    "training_y = training_y[0:n]\n",
    "\n",
    "validation_x = training_x[n:]   # rest of the data from existing training set = validation set\n",
    "validation_y = training_y[n:]"
   ]
  },
  {
   "cell_type": "markdown",
   "metadata": {},
   "source": [
    "#c."
   ]
  },
  {
   "cell_type": "code",
   "execution_count": null,
   "metadata": {},
   "outputs": [],
   "source": [
    "# c. Creating one new synthetic feature\n",
    "housing_data = pd.read_csv(\"https://raw.githubusercontent.com/selva86/datasets/master/BostonHousing.csv\", sep=\",\")\n",
    "\n",
    "housing_data[\"Accessability\"] = housing_data[\"rad\"] * housing_data[\"dis\"]\n",
    "\n",
    "housing_data.head()\n",
    "housing_data.describe()"
   ]
  },
  {
   "cell_type": "markdown",
   "metadata": {},
   "source": [
    "I added \"Accessability\" column that can measure the general condition of transportation by factoring in the distance from the employment centers and index of accessibility to the highways. This measurement can be useful indicator for the price range of the units of the area as well as the decision making influence factor for potential buyer with great impact on travel time to work or travel convenience. "
   ]
  }
 ],
 "metadata": {
  "kernelspec": {
   "display_name": "Python 3",
   "language": "python",
   "name": "python3"
  },
  "language_info": {
   "codemirror_mode": {
    "name": "ipython",
    "version": 3
   },
   "file_extension": ".py",
   "mimetype": "text/x-python",
   "name": "python",
   "nbconvert_exporter": "python",
   "pygments_lexer": "ipython3",
   "version": "3.5.2"
  }
 },
 "nbformat": 4,
 "nbformat_minor": 2
}
