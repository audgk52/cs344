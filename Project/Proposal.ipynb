{
 "cells": [
  {
   "cell_type": "markdown",
   "metadata": {},
   "source": [
    "#Project Proposal Pt 1\n",
    "##Myungha Kim \n",
    "##CS344\n"
   ]
  },
  {
   "cell_type": "markdown",
   "metadata": {},
   "source": [
    "\n",
    "\n",
    "For the final project, I will implement a sentiment-analysis on examining how immigration/refugee issue (government policy focused) is portrayed by several prominent newspapers such as The Washington Post, The Wall Stree Journal, The Times, The Economist, The New York Times, etc. From this analysis, I aim to find the link between general partisanship of newspaper to their portrayal on immigration/refugee issues.\n",
    "\n",
    "\n",
    "\n",
    "The basic technology I am planning on implementing for the sentiment-analysis is either a linear model using a sparse feature vector or Deep Neural Network model using an indicator that projects the data into dimensions; the decision between these two models would be an extent of complexity and capacity the problem requires (if the problem does not require much complexity and capcity, a linear model will be preferable due to its fast training speed and its capability). With the training dataset consist of parsed words from the articles of each newspaper, a linear model option with a feature column would be trained with an explicit vocabulary indicating favorableness or unfavorableness. Deep Neural Network model with an indicator columns (would be more efficient than using embedding columns since the vocabulary size will be smaller than the number of words parsed) would take the parsed words as input and returns a lower-dimensional dense vector as output. "
   ]
  }
 ],
 "metadata": {
  "kernelspec": {
   "display_name": "Python 3",
   "language": "python",
   "name": "python3"
  },
  "language_info": {
   "codemirror_mode": {
    "name": "ipython",
    "version": 3
   },
   "file_extension": ".py",
   "mimetype": "text/x-python",
   "name": "python",
   "nbconvert_exporter": "python",
   "pygments_lexer": "ipython3",
   "version": "3.6.7"
  }
 },
 "nbformat": 4,
 "nbformat_minor": 2
}
